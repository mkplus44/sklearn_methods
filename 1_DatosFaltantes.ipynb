{
  "nbformat": 4,
  "nbformat_minor": 0,
  "metadata": {
    "colab": {
      "provenance": [],
      "authorship_tag": "ABX9TyMyo+R2vD+nb2WF+96xcaYK",
      "include_colab_link": true
    },
    "kernelspec": {
      "name": "python3",
      "display_name": "Python 3"
    },
    "language_info": {
      "name": "python"
    }
  },
  "cells": [
    {
      "cell_type": "markdown",
      "metadata": {
        "id": "view-in-github",
        "colab_type": "text"
      },
      "source": [
        "<a href=\"https://colab.research.google.com/github/mkplus44/sklearn_methods/blob/main/1_DatosFaltantes.ipynb\" target=\"_parent\"><img src=\"https://colab.research.google.com/assets/colab-badge.svg\" alt=\"Open In Colab\"/></a>"
      ]
    },
    {
      "cell_type": "markdown",
      "source": [
        "# 1. **Valores ausentes**\n"
      ],
      "metadata": {
        "id": "sC8FsQfWrVVB"
      }
    },
    {
      "cell_type": "code",
      "source": [
        "# 1. **Imputación datos ausentes**\n",
        "De forma adicional a las funciones de estandarización, se incluyen las siguientes:\n",
        "   - **Imputación de Valores Faltantes:**\n",
        "    - **SimpleImputer:** Completa valores utilizando una estrategia fija, media, mediana, moda,...\n",
        "    - **KNNImputer:** Imputa valores utilizando el algoritmo KNN.\n",
        "    - **IterativeImputer:** Completo valores  tratando cada atributo que tiene valores faltantes como una función de los otros atributos\n",
        "    - **SimpleImputer para valores categóricos:** Utilización para valores categóricos\n",
        "\n"
      ],
      "metadata": {
        "collapsed": true,
        "id": "yxufnlVt3qb3"
      },
      "execution_count": null,
      "outputs": []
    },
    {
      "cell_type": "code",
      "source": [
        "# Importo las librerias pandas y de sklearn simpleimputer\n",
        "import pandas as pd\n"
      ],
      "metadata": {
        "id": "gAKDDtrrsbji"
      },
      "execution_count": null,
      "outputs": []
    },
    {
      "cell_type": "code",
      "source": [
        "# Creo un dataset con valores nulos de ejemplo\n",
        "data = {\n",
        "    'A': [1, 2, None, 4,8],\n",
        "    'B': [None, 2, 3, 4,6],\n",
        "    'C': [1, None, None, 4,6]\n",
        "}\n",
        "\n",
        "#Lo convierto en Dataframe, para poder manipular los datos\n",
        "df = pd.DataFrame(data)"
      ],
      "metadata": {
        "id": "bSo5Y3sL0Hzn"
      },
      "execution_count": null,
      "outputs": []
    },
    {
      "cell_type": "code",
      "source": [
        "# Verifico los valores faltantes en el dataframe que hemos creado\n",
        "print(\"Valores faltantes en el dataset:\")\n",
        "print(df.isnull().sum())"
      ],
      "metadata": {
        "colab": {
          "base_uri": "https://localhost:8080/"
        },
        "id": "8HSIG3h4vsFB",
        "outputId": "69999952-9875-4935-c4df-f37cb5e6bbff"
      },
      "execution_count": null,
      "outputs": [
        {
          "output_type": "stream",
          "name": "stdout",
          "text": [
            "Valores faltantes en el dataset:\n",
            "A    1\n",
            "B    1\n",
            "C    2\n",
            "dtype: int64\n"
          ]
        }
      ]
    },
    {
      "cell_type": "markdown",
      "source": [
        "## SimpleImputer\n",
        "Completamos valores faltantes en un conjunto de datos utilizando una estrategia fija"
      ],
      "metadata": {
        "id": "RfObo8dk7NiF"
      }
    },
    {
      "cell_type": "code",
      "source": [
        "# Con SimpleImputer se puede reemplezar los valores faltante, de forma sencilla\n",
        "#con la media, la mediana o con un valor constante\n",
        "from sklearn.impute import SimpleImputer\n",
        "\n",
        "# Creo una instancia  de SimpleImputer con la estrategia media\n",
        "imputer = SimpleImputer(strategy='mean')\n",
        "\n",
        "# Imputo los valores faltantes del dataset\n",
        "datos_imputados = imputer.fit_transform(df)\n",
        "\n",
        "# Actualizo el dataframe con los valores imputados\n",
        "df_media = pd.DataFrame(datos_imputados, columns=df.columns)"
      ],
      "metadata": {
        "id": "xBP22Q2T2Aib"
      },
      "execution_count": null,
      "outputs": []
    },
    {
      "cell_type": "code",
      "source": [
        "#Compruebo el resultado\n",
        "print(\"Valores faltantes en el dataset, después de la operación:\")\n",
        "print(df_media.isnull().sum())"
      ],
      "metadata": {
        "colab": {
          "base_uri": "https://localhost:8080/"
        },
        "id": "LtRt9cj73FRB",
        "outputId": "1890bdd0-8e31-4bf5-8965-7faa42c7dee6"
      },
      "execution_count": null,
      "outputs": [
        {
          "output_type": "stream",
          "name": "stdout",
          "text": [
            "Valores faltantes en el dataset, después de la operación:\n",
            "A    0\n",
            "B    0\n",
            "C    0\n",
            "dtype: int64\n"
          ]
        }
      ]
    },
    {
      "cell_type": "code",
      "source": [
        "\n",
        "# Creo una instancia  de SimpleImputer con la estrategia mediana\n",
        "imputer = SimpleImputer(strategy='median')\n",
        "\n",
        "# Imputo los valores faltantes del dataset\n",
        "datos_imputados = imputer.fit_transform(df)\n",
        "\n",
        "# Actualizo el dataframe con los valores imputados\n",
        "df_mediana = pd.DataFrame(datos_imputados, columns=df.columns)"
      ],
      "metadata": {
        "id": "bbSOWDpM6Jwj"
      },
      "execution_count": null,
      "outputs": []
    },
    {
      "cell_type": "code",
      "source": [
        "#Compruebo el resultado\n",
        "print(\"Valores faltantes en el dataset, después de la operación:\")\n",
        "print(df_mediana.isnull().sum())"
      ],
      "metadata": {
        "colab": {
          "base_uri": "https://localhost:8080/"
        },
        "id": "tDc_9WtR6RLB",
        "outputId": "18bff21e-fcda-450d-a973-82bf6c474dbc"
      },
      "execution_count": null,
      "outputs": [
        {
          "output_type": "stream",
          "name": "stdout",
          "text": [
            "Valores faltantes en el dataset, después de la operación:\n",
            "A    0\n",
            "B    0\n",
            "C    0\n",
            "dtype: int64\n"
          ]
        }
      ]
    },
    {
      "cell_type": "code",
      "source": [
        "print(\"Valores finales del dataset - media:\")\n",
        "print(df_media)\n",
        "\n",
        "print(\"Valores finales del dataset - mediana:\")\n",
        "print(df_mediana)"
      ],
      "metadata": {
        "colab": {
          "base_uri": "https://localhost:8080/"
        },
        "id": "u3ypNKFn6g_g",
        "outputId": "8003bd92-2af5-4fd5-cace-3de4a3820f90"
      },
      "execution_count": null,
      "outputs": [
        {
          "output_type": "stream",
          "name": "stdout",
          "text": [
            "Valores finales del dataset - media:\n",
            "      A     B         C\n",
            "0  1.00  3.75  1.000000\n",
            "1  2.00  2.00  3.666667\n",
            "2  3.75  3.00  3.666667\n",
            "3  4.00  4.00  4.000000\n",
            "4  8.00  6.00  6.000000\n",
            "Valores finales del dataset - mediana:\n",
            "     A    B    C\n",
            "0  1.0  3.5  1.0\n",
            "1  2.0  2.0  4.0\n",
            "2  3.0  3.0  4.0\n",
            "3  4.0  4.0  4.0\n",
            "4  8.0  6.0  6.0\n"
          ]
        }
      ]
    },
    {
      "cell_type": "markdown",
      "source": [
        "## KNNImputer\n",
        "Completamos valores faltantes en un conjunto de datos utilizando los k valores más cercanos"
      ],
      "metadata": {
        "id": "gGD0t02o7uaZ"
      }
    },
    {
      "cell_type": "code",
      "source": [
        "from sklearn.impute import KNNImputer\n",
        "\n",
        "# Creo el imputador KNN, con 2 vecinos\n",
        "imputer = KNNImputer(n_neighbors=2)\n",
        "\n",
        "# Transformo el DataFrame\n",
        "df_knn = imputer.fit_transform(df)\n",
        "\n",
        "# Convierto el resultado a DataFrame\n",
        "df_knn = pd.DataFrame(df_knn, columns=df.columns)\n",
        "\n",
        "# Muestro el DataFrame completado\n",
        "print(\"\\DataFrame después de KNNImputer:\")\n",
        "print(df_knn)"
      ],
      "metadata": {
        "colab": {
          "base_uri": "https://localhost:8080/"
        },
        "id": "iphBBRWf7Cm8",
        "outputId": "6ce928c3-9901-4b05-a1b7-9160a01f7f1b"
      },
      "execution_count": null,
      "outputs": [
        {
          "output_type": "stream",
          "name": "stdout",
          "text": [
            "\\DataFrame después de KNNImputer:\n",
            "     A    B    C\n",
            "0  1.0  3.0  1.0\n",
            "1  2.0  2.0  2.5\n",
            "2  3.0  3.0  5.0\n",
            "3  4.0  4.0  4.0\n",
            "4  8.0  6.0  6.0\n"
          ]
        }
      ]
    },
    {
      "cell_type": "markdown",
      "source": [],
      "metadata": {
        "id": "oGtXb6kh8QXc"
      }
    },
    {
      "cell_type": "markdown",
      "source": [
        "## IterativeImputer\n",
        " Completa los datos, tratando cada atributo que tiene valores faltantes como una función de los otros atributos. Es más avanzdo"
      ],
      "metadata": {
        "id": "uy0rvm2898TX"
      }
    },
    {
      "cell_type": "code",
      "source": [
        "from sklearn.experimental import enable_iterative_imputer\n",
        "from sklearn.impute import IterativeImputer\n",
        "\n",
        "# Creo el imputador iterativo\n",
        "imputer = IterativeImputer()\n",
        "\n",
        "# Transformo el DataFrame\n",
        "df_iterative = imputer.fit_transform(df)\n",
        "\n",
        "# Convierto el resultado a DataFrame\n",
        "df_iterative = pd.DataFrame(df_iterative, columns=df.columns)\n",
        "\n",
        "# Muestro el DataFrame completado\n",
        "print(\"\\nDataFrame después de IterativeImputer:\")\n",
        "print(df_iterative)"
      ],
      "metadata": {
        "id": "mBI5dHRO983t",
        "colab": {
          "base_uri": "https://localhost:8080/"
        },
        "outputId": "248ec62d-b511-4a5a-8e91-c98771f19aeb"
      },
      "execution_count": null,
      "outputs": [
        {
          "output_type": "stream",
          "name": "stdout",
          "text": [
            "\n",
            "DataFrame después de IterativeImputer:\n",
            "          A         B         C\n",
            "0  1.000000  4.508518  1.000000\n",
            "1  2.000000  2.000000  3.746812\n",
            "2  2.880191  3.000000  3.768762\n",
            "3  4.000000  4.000000  4.000000\n",
            "4  8.000000  6.000000  6.000000\n"
          ]
        }
      ]
    },
    {
      "cell_type": "markdown",
      "source": [
        "## SimpleImputer valores categóricos\n",
        "Completamos valores faltantes en un conjunto de datos utilizando una estrategia fija"
      ],
      "metadata": {
        "id": "EWYlLiETBqKa"
      }
    },
    {
      "cell_type": "code",
      "source": [
        "# Creo un dataset con valores categóricos, nulos de ejemplo\n",
        "dataC = {\n",
        "    'A': [\"a\", \"b\", None, \"d\",\"i\"],\n",
        "    'B': [None, \"b\", \"c\", \"d\",\"f\"],\n",
        "    'C': [\"a\", None, None, \"d\",\"f\"]\n",
        "}\n",
        "\n",
        "#Lo convierto en Dataframe, para poder manipular los datos\n",
        "dfC = pd.DataFrame(dataC, dtype=\"category\")"
      ],
      "metadata": {
        "id": "sE5S3POnB01b"
      },
      "execution_count": null,
      "outputs": []
    },
    {
      "cell_type": "code",
      "source": [
        "# Verifico los valores faltantes en el dataframe que hemos creado\n",
        "print(\"Valores faltantes en el dataset:\")\n",
        "print(dfC.isnull().sum())"
      ],
      "metadata": {
        "colab": {
          "base_uri": "https://localhost:8080/"
        },
        "id": "kli9CW9zCi3Z",
        "outputId": "1874a4b9-7629-4802-a8ec-c9ab5c243e5f"
      },
      "execution_count": null,
      "outputs": [
        {
          "output_type": "stream",
          "name": "stdout",
          "text": [
            "Valores faltantes en el dataset:\n",
            "A    1\n",
            "B    1\n",
            "C    2\n",
            "dtype: int64\n"
          ]
        }
      ]
    },
    {
      "cell_type": "code",
      "source": [
        "from sklearn.impute import SimpleImputer\n",
        "# Creo una instancia  de SimpleImputer con la estrategia mediana\n",
        "imputer = SimpleImputer(strategy='most_frequent')\n",
        "\n",
        "# Imputo los valores faltantes del dataset\n",
        "datos_categoricos = imputer.fit_transform(dfC)\n",
        "\n",
        "# Actualizo el dataframe con los valores imputados\n",
        "datos_categoricos = pd.DataFrame(datos_categoricos, columns=dfC.columns)"
      ],
      "metadata": {
        "id": "n39Sd5iZDQhd"
      },
      "execution_count": null,
      "outputs": []
    },
    {
      "cell_type": "code",
      "source": [
        "#Compruebo el resultado\n",
        "print(\"Valores faltantes en el dataset, después de la operación:\")\n",
        "print(datos_categoricos.isnull().sum())\n",
        "\n",
        "# Muestro el DataFrame completado\n",
        "print(\"\\nDataFrame después de IterativeImputer:\")\n",
        "print(datos_categoricos)"
      ],
      "metadata": {
        "colab": {
          "base_uri": "https://localhost:8080/"
        },
        "id": "4tvGeufvEbwe",
        "outputId": "11fe8c2e-2869-4952-e406-d876d5475860"
      },
      "execution_count": null,
      "outputs": [
        {
          "output_type": "stream",
          "name": "stdout",
          "text": [
            "Valores faltantes en el dataset, después de la operación:\n",
            "A    0\n",
            "B    0\n",
            "C    0\n",
            "dtype: int64\n",
            "\n",
            "DataFrame después de IterativeImputer:\n",
            "   A  B  C\n",
            "0  a  b  a\n",
            "1  b  b  a\n",
            "2  a  c  a\n",
            "3  d  d  d\n",
            "4  i  f  f\n"
          ]
        }
      ]
    }
  ]
}